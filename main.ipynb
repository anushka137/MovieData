{
 "cells": [
  {
   "cell_type": "code",
   "execution_count": 1,
   "metadata": {},
   "outputs": [],
   "source": [
    "# project: p9\n",
    "# submitter: achandrashe4\n",
    "# partner: none"
   ]
  },
  {
   "cell_type": "code",
   "execution_count": 2,
   "metadata": {},
   "outputs": [],
   "source": [
    "import csv\n",
    "import copy \n",
    "import matplotlib\n",
    "import pandas\n",
    "\n",
    "# Allows you to render matplotlib graphs in the same notebook\n",
    "%matplotlib inline \n",
    "\n",
    "def plot_dict(d, label=\"Please Label Me!!!\"):\n",
    "    ax = pandas.Series(d).sort_index().plot.bar(color=\"black\", fontsize=16)\n",
    "    ax.set_ylabel(label, fontsize=16)"
   ]
  },
  {
   "cell_type": "code",
   "execution_count": 3,
   "metadata": {},
   "outputs": [],
   "source": [
    "import csv\n",
    "\n",
    "def process_csv(filename):\n",
    "    exampleFile = open(filename, encoding=\"utf-8\")\n",
    "    exampleReader = csv.reader(exampleFile)\n",
    "    exampleData = list(exampleReader)\n",
    "    exampleFile.close()\n",
    "    return exampleData"
   ]
  },
  {
   "cell_type": "code",
   "execution_count": 4,
   "metadata": {},
   "outputs": [],
   "source": [
    "def get_mapping(path):\n",
    "    csv_rows = process_csv(path)\n",
    "    csv_data = csv_rows[1:]\n",
    "    ids_to_names = {}\n",
    "    for i in range(len(csv_rows)):\n",
    "        ids_to_names[csv_rows[i][0]] = csv_rows[i][1]\n",
    "    return ids_to_names"
   ]
  },
  {
   "cell_type": "code",
   "execution_count": 5,
   "metadata": {},
   "outputs": [],
   "source": [
    "def get_raw_movies(path):\n",
    "    csv_rows = process_csv(path)\n",
    "    header = csv_rows[0]\n",
    "    csv_data = csv_rows[1:]\n",
    "    dict_list = []\n",
    "    for row in csv_data:\n",
    "        new_row = {}\n",
    "        for index in range(len(row)):\n",
    "            if header[index] == \"year\":\n",
    "                row[index] = int(row[index])\n",
    "            if header[index] == \"rating\":\n",
    "                row[index] = float(row[index])\n",
    "            if header[index] == \"directors\" or header[index] == \"actors\" or header[index] == \"genres\":\n",
    "                row[index] = row[index].split(\",\")\n",
    "            new_row[header[index]] = row[index]\n",
    "        dict_list.append(new_row)\n",
    "    return dict_list"
   ]
  },
  {
   "cell_type": "code",
   "execution_count": 6,
   "metadata": {},
   "outputs": [],
   "source": [
    "def get_movies(movies_path, mapping_path):\n",
    "    mapping = get_mapping(mapping_path)\n",
    "    movie_mapping = get_raw_movies(movies_path)\n",
    "    \n",
    "    for movie in range(len(movie_mapping)):\n",
    "        for key1 in movie_mapping[movie]:\n",
    "            for key2 in mapping:\n",
    "                if movie_mapping[movie][key1] == key2:\n",
    "                    movie_mapping[movie][key1] = mapping[key2]\n",
    "            \n",
    "        directors_list = movie_mapping[movie][\"directors\"]\n",
    "        for director in range(len(directors_list)):\n",
    "            for key2 in mapping:\n",
    "                if directors_list[director] == key2:\n",
    "                    directors_list[director] = mapping[key2]\n",
    "    \n",
    "    \n",
    "        actors_list = movie_mapping[movie][\"actors\"]\n",
    "        for actor in range(len(actors_list)):\n",
    "            for key2 in mapping:\n",
    "                if actors_list[actor] == key2:\n",
    "                    actors_list[actor] = mapping[key2]\n",
    "    return movie_mapping"
   ]
  },
  {
   "cell_type": "code",
   "execution_count": 7,
   "metadata": {},
   "outputs": [],
   "source": [
    "def title_vs_rating(actor_name):\n",
    "    title_to_rating = {}\n",
    "    for movie in movies:\n",
    "        if actor_name in movie[\"actors\"]:\n",
    "            title_to_rating[movie[\"title\"]] = movie[\"rating\"]\n",
    "    return title_to_rating"
   ]
  },
  {
   "cell_type": "code",
   "execution_count": 8,
   "metadata": {},
   "outputs": [],
   "source": [
    "def movies_per_genre():\n",
    "    genre_to_num_movies = {}\n",
    "    for movie in movies:\n",
    "        for genre in movie[\"genres\"]:\n",
    "            if not genre in genre_to_num_movies:\n",
    "                genre_to_num_movies[genre] = 0\n",
    "            genre_to_num_movies[genre] += 1\n",
    "    return genre_to_num_movies"
   ]
  },
  {
   "cell_type": "code",
   "execution_count": 9,
   "metadata": {},
   "outputs": [],
   "source": [
    "def movies_per_actor():\n",
    "    actor_to_num_movies = {}\n",
    "    for movie in movies:\n",
    "        for actor in movie[\"actors\"]:\n",
    "            if not actor in actor_to_num_movies:\n",
    "                actor_to_num_movies[actor] = 0\n",
    "            actor_to_num_movies[actor] += 1\n",
    "    return actor_to_num_movies"
   ]
  },
  {
   "cell_type": "code",
   "execution_count": 10,
   "metadata": {},
   "outputs": [],
   "source": [
    "movies = get_movies(\"movies.csv\", \"mapping.csv\")"
   ]
  },
  {
   "cell_type": "code",
   "execution_count": 11,
   "metadata": {},
   "outputs": [
    {
     "data": {
      "text/plain": [
       "6.380867346938772"
      ]
     },
     "execution_count": 11,
     "metadata": {},
     "output_type": "execute_result"
    }
   ],
   "source": [
    "#q1 Find the average rating for movies with less than 4 actors (length of actor list < 4)?\n",
    "ratings_list = []\n",
    "for movie in movies:\n",
    "    if len(movie[\"actors\"]) < 4:\n",
    "        ratings_list.append(movie[\"rating\"])\n",
    "average_rating = sum(ratings_list) / len(ratings_list)\n",
    "average_rating"
   ]
  },
  {
   "cell_type": "code",
   "execution_count": 12,
   "metadata": {},
   "outputs": [
    {
     "data": {
      "text/plain": [
       "6.742857142857143"
      ]
     },
     "execution_count": 12,
     "metadata": {},
     "output_type": "execute_result"
    }
   ],
   "source": [
    "#q2 Find the average rating for movies with more than 5 actors (length of actor list > 5) ?\n",
    "ratings_list = []\n",
    "for movie in movies:\n",
    "    if len(movie[\"actors\"]) > 5:\n",
    "        ratings_list.append(movie[\"rating\"])\n",
    "average_rating = sum(ratings_list) / len(ratings_list)\n",
    "average_rating"
   ]
  },
  {
   "cell_type": "code",
   "execution_count": 13,
   "metadata": {},
   "outputs": [
    {
     "data": {
      "text/plain": [
       "6.413599999999994"
      ]
     },
     "execution_count": 13,
     "metadata": {},
     "output_type": "execute_result"
    }
   ],
   "source": [
    "#q3 What is the average rating of movies which start with the letter 'a' (case insensitive)?\n",
    "ratings_list = []\n",
    "for movie in movies:\n",
    "    if movie[\"title\"].startswith(\"a\".upper()): #check this again!!!\n",
    "        ratings_list.append(movie[\"rating\"])\n",
    "average_rating = sum(ratings_list) / len(ratings_list)\n",
    "average_rating"
   ]
  },
  {
   "cell_type": "code",
   "execution_count": 14,
   "metadata": {},
   "outputs": [
    {
     "data": {
      "image/png": "[encoded data removed]",
      "text/plain": [
       "<Figure size 432x288 with 1 Axes>"
      ]
     },
     "metadata": {
      "needs_background": "light"
     },
     "output_type": "display_data"
    }
   ],
   "source": [
    "#q4 Plot the title vs rating of movies featuring \"Tom Cruise\".\n",
    "tom_cruise_plot = title_vs_rating(\"Tom Cruise\")\n",
    "plot_dict(tom_cruise_plot, \"Rating\")"
   ]
  },
  {
   "cell_type": "code",
   "execution_count": 15,
   "metadata": {},
   "outputs": [
    {
     "data": {
      "image/png": "[encoded data removed]",
      "text/plain": [
       "<Figure size 432x288 with 1 Axes>"
      ]
     },
     "metadata": {
      "needs_background": "light"
     },
     "output_type": "display_data"
    }
   ],
   "source": [
    "#q5 Plot the title vs rating of movies featuring \"Sylvester Stallone\".\n",
    "sylvester_stallone_plot = title_vs_rating(\"Sylvester Stallone\")\n",
    "plot_dict(sylvester_stallone_plot, \"Rating\")"
   ]
  },
  {
   "cell_type": "code",
   "execution_count": 16,
   "metadata": {},
   "outputs": [
    {
     "data": {
      "image/png": "[encoded data removed]",
      "text/plain": [
       "<Figure size 432x288 with 1 Axes>"
      ]
     },
     "metadata": {
      "needs_background": "light"
     },
     "output_type": "display_data"
    }
   ],
   "source": [
    "#q6 Plot the number of movies played by [\"John Wayne\", \"Glenn Ford\", \"Danny Glover\"].\n",
    "actors_list = [\"John Wayne\", \"Glenn Ford\", \"Danny Glover\"]\n",
    "actor_to_num_movies = {}\n",
    "for actor in actors_list:\n",
    "    actor_to_num_movies[actor] = 0\n",
    "    for movie in movies:\n",
    "        if actor in movie[\"actors\"]:\n",
    "            actor_to_num_movies[actor] += 1\n",
    "plot_dict(actor_to_num_movies, \"Number of Movies\")"
   ]
  },
  {
   "cell_type": "code",
   "execution_count": 17,
   "metadata": {},
   "outputs": [
    {
     "data": {
      "image/png": "[encoded data removed]",
      "text/plain": [
       "<Figure size 432x288 with 1 Axes>"
      ]
     },
     "metadata": {
      "needs_background": "light"
     },
     "output_type": "display_data"
    }
   ],
   "source": [
    "#q7 Plot the number of movies that start with each letter of the alphabet.\n",
    "letters = \"abcdefghijklmnopqrstuvwxyz\"\n",
    "letter_to_num_movies = {}\n",
    "for letter in letters:\n",
    "    letter_to_num_movies[letter] = 0\n",
    "    for movie in movies:\n",
    "        if movie[\"title\"].lower().startswith(letter):\n",
    "            letter_to_num_movies[letter] += 1\n",
    "plot_dict(letter_to_num_movies, \"Number of Movies\")"
   ]
  },
  {
   "cell_type": "code",
   "execution_count": 18,
   "metadata": {},
   "outputs": [
    {
     "data": {
      "image/png": "[encoded data removed]",
      "text/plain": [
       "<Figure size 432x288 with 1 Axes>"
      ]
     },
     "metadata": {
      "needs_background": "light"
     },
     "output_type": "display_data"
    }
   ],
   "source": [
    "#q8: Plot the number of movies there are for each genre.\n",
    "plot_dict(movies_per_genre(), \"Number of Movies\")"
   ]
  },
  {
   "cell_type": "code",
   "execution_count": 19,
   "metadata": {},
   "outputs": [
    {
     "data": {
      "text/plain": [
       "{'a': 6.413599999999994,\n",
       " 'b': 6.312264150943395,\n",
       " 'c': 6.337362637362637,\n",
       " 'd': 6.297101449275363,\n",
       " 'e': 6.128125000000001,\n",
       " 'f': 6.375609756097562,\n",
       " 'g': 6.443181818181819,\n",
       " 'h': 6.476829268292684,\n",
       " 'i': 6.714814814814817,\n",
       " 'j': 6.375,\n",
       " 'k': 6.316666666666666,\n",
       " 'l': 6.172368421052631,\n",
       " 'm': 6.650000000000002,\n",
       " 'n': 6.348148148148147,\n",
       " 'o': 6.5814814814814815,\n",
       " 'p': 6.160377358490566,\n",
       " 'q': 6.7,\n",
       " 'r': 6.371052631578949,\n",
       " 's': 6.216352201257862,\n",
       " 't': 6.5432000000000015,\n",
       " 'u': 6.15,\n",
       " 'v': 6.1000000000000005,\n",
       " 'w': 6.243076923076923,\n",
       " 'y': 6.285714285714286,\n",
       " 'z': 6.833333333333333}"
      ]
     },
     "execution_count": 19,
     "metadata": {},
     "output_type": "execute_result"
    }
   ],
   "source": [
    "#q9 For each letter of the alphabet (except 'x'), what is the average rating of movies that start with that letter (case insensitive)?\n",
    "letters = \"abcdefghijklmnopqrstuvwyz\" # No x this time!\n",
    "letter_to_num_movies = {}\n",
    "for letter in letters:\n",
    "    letter_to_num_movies[letter] = []\n",
    "    for movie in movies:\n",
    "        if movie[\"title\"].startswith(letter.upper()):\n",
    "            letter_to_num_movies[letter].append(movie[\"rating\"])\n",
    "for letter in letter_to_num_movies:\n",
    "    letter_to_num_movies[letter] = sum(letter_to_num_movies[letter]) / len(letter_to_num_movies[letter])\n",
    "letter_to_num_movies"
   ]
  },
  {
   "cell_type": "code",
   "execution_count": 20,
   "metadata": {},
   "outputs": [
    {
     "data": {
      "text/plain": [
       "{'Comedy': 6.3146391752577395,\n",
       " 'Drama': 6.529707495429615,\n",
       " 'Romance': 6.474147727272729,\n",
       " 'History': 6.661643835616438,\n",
       " 'Family': 6.512941176470589,\n",
       " 'Mystery': 6.275206611570249,\n",
       " 'Thriller': 5.981999999999998,\n",
       " 'Action': 6.125752508361202,\n",
       " 'Crime': 6.355182072829133,\n",
       " 'Adventure': 6.612367491166079,\n",
       " 'Western': 6.455309734513275,\n",
       " 'Music': 6.3947368421052655,\n",
       " 'Animation': 7.1533333333333315,\n",
       " 'Sport': 6.527083333333334,\n",
       " 'Fantasy': 6.405084745762712,\n",
       " 'War': 6.771717171717175,\n",
       " 'Sci-Fi': 6.104347826086958,\n",
       " 'Horror': 5.724705882352941}"
      ]
     },
     "execution_count": 20,
     "metadata": {},
     "output_type": "execute_result"
    }
   ],
   "source": [
    "#q10 What is the average movie rating for each genre?\n",
    "genre_to_rating = {}\n",
    "for movie in movies:\n",
    "    for genre in movie[\"genres\"]:\n",
    "        if not genre in genre_to_rating:\n",
    "            genre_to_rating[genre] = []\n",
    "        genre_to_rating[genre].append(movie[\"rating\"])\n",
    "for genre in genre_to_rating:\n",
    "    genre_to_rating[genre] = sum(genre_to_rating[genre]) / len(genre_to_rating[genre])\n",
    "genre_to_rating"
   ]
  },
  {
   "cell_type": "code",
   "execution_count": 21,
   "metadata": {},
   "outputs": [
    {
     "data": {
      "text/plain": [
       "{'Comedy': 484,\n",
       " 'Drama': 1085,\n",
       " 'Romance': 352,\n",
       " 'History': 73,\n",
       " 'Family': 84,\n",
       " 'Mystery': 117,\n",
       " 'Thriller': 243,\n",
       " 'Action': 289,\n",
       " 'Crime': 351,\n",
       " 'Adventure': 280,\n",
       " 'Western': 226,\n",
       " 'Music': 38,\n",
       " 'Animation': 45,\n",
       " 'Sport': 47,\n",
       " 'Fantasy': 58,\n",
       " 'War': 99,\n",
       " 'Sci-Fi': 67,\n",
       " 'Horror': 81}"
      ]
     },
     "execution_count": 21,
     "metadata": {},
     "output_type": "execute_result"
    }
   ],
   "source": [
    "#q11 How many movies in each genre have a rating of above 4.0? (rating > 4.0)\n",
    "genre_to_rating_above_four = {}\n",
    "for movie in movies:\n",
    "    for genre in movie[\"genres\"]:\n",
    "        if not genre in genre_to_rating_above_four:\n",
    "            genre_to_rating_above_four[genre] = 0\n",
    "        if movie[\"rating\"] > 4.0:\n",
    "            genre_to_rating_above_four[genre] += 1\n",
    "genre_to_rating_above_four"
   ]
  },
  {
   "cell_type": "code",
   "execution_count": 22,
   "metadata": {},
   "outputs": [
    {
     "data": {
      "image/png": "[encoded data removed]",
      "text/plain": [
       "<Figure size 432x288 with 1 Axes>"
      ]
     },
     "metadata": {
      "needs_background": "light"
     },
     "output_type": "display_data"
    }
   ],
   "source": [
    "#q12 Plot the number of movies that were released each year in the last decade (2010<= year <=2020)\n",
    "year_to_num_releases = {}\n",
    "for movie in movies:\n",
    "    if 2010 <= movie[\"year\"] <= 2020:\n",
    "        if not movie[\"year\"] in year_to_num_releases:\n",
    "            year_to_num_releases[movie[\"year\"]] = 0\n",
    "        year_to_num_releases[movie[\"year\"]] += 1\n",
    "plot_dict(year_to_num_releases, \"Number of Releases\")"
   ]
  },
  {
   "cell_type": "code",
   "execution_count": 23,
   "metadata": {},
   "outputs": [
    {
     "data": {
      "text/plain": [
       "[2015]"
      ]
     },
     "execution_count": 23,
     "metadata": {},
     "output_type": "execute_result"
    }
   ],
   "source": [
    "#q13 Which year (or years) had the highest number of movie releases?\n",
    "year_to_num_releases = {}\n",
    "years_with_highest_num_releases = []\n",
    "for movie in movies:\n",
    "    if not movie[\"year\"] in year_to_num_releases:\n",
    "        year_to_num_releases[movie[\"year\"]] = 0\n",
    "    year_to_num_releases[movie[\"year\"]] += 1\n",
    "for year in year_to_num_releases:\n",
    "    if year_to_num_releases[year] == max(year_to_num_releases.values()):\n",
    "        years_with_highest_num_releases.append(year)\n",
    "years_with_highest_num_releases"
   ]
  },
  {
   "cell_type": "code",
   "execution_count": 24,
   "metadata": {},
   "outputs": [
    {
     "data": {
      "text/plain": [
       "['Music', 'Animation', 'Sport', 'Fantasy', 'Sci-Fi']"
      ]
     },
     "execution_count": 24,
     "metadata": {},
     "output_type": "execute_result"
    }
   ],
   "source": [
    "#q14 Which 5 genres have the least number of movies?\n",
    "genre_list = []\n",
    "genre_to_num_movies = movies_per_genre()\n",
    "for genre in genre_to_num_movies:\n",
    "    genre_list.append(genre)\n",
    "def genre_sort(genre_name):\n",
    "    return genre_to_num_movies[genre_name]\n",
    "genre_list = sorted(genre_list, key = genre_sort)\n",
    "genre_list[:5]"
   ]
  },
  {
   "cell_type": "code",
   "execution_count": 25,
   "metadata": {},
   "outputs": [
    {
     "data": {
      "text/plain": [
       "['Action', 'Romance', 'Crime', 'Comedy', 'Drama']"
      ]
     },
     "execution_count": 25,
     "metadata": {},
     "output_type": "execute_result"
    }
   ],
   "source": [
    "#q15 Which 5 genres have the most number of movies?\n",
    "genre_list[-5:]"
   ]
  },
  {
   "cell_type": "code",
   "execution_count": 26,
   "metadata": {},
   "outputs": [
    {
     "data": {
      "text/plain": [
       "['Robert De Niro',\n",
       " 'Robert Mitchum',\n",
       " 'Glenn Ford',\n",
       " 'George Sanders',\n",
       " 'Randolph Scott',\n",
       " 'Henry Fonda',\n",
       " 'Anthony Quinn',\n",
       " 'Mickey Rooney',\n",
       " 'Eric Roberts',\n",
       " 'John Wayne']"
      ]
     },
     "execution_count": 26,
     "metadata": {},
     "output_type": "execute_result"
    }
   ],
   "source": [
    "#q16 Which 10 actors are featured in the most movies?\n",
    "actor_list = []\n",
    "actor_to_num_movies = movies_per_actor()\n",
    "for actor in actor_to_num_movies:\n",
    "    actor_list.append(actor)\n",
    "def actor_sort(actor_name):\n",
    "    return actor_to_num_movies[actor_name]\n",
    "actors_list = sorted(actor_list, key = actor_sort)\n",
    "actors_list[-10:]"
   ]
  },
  {
   "cell_type": "code",
   "execution_count": 27,
   "metadata": {},
   "outputs": [
    {
     "data": {
      "text/plain": [
       "'John Wayne'"
      ]
     },
     "execution_count": 27,
     "metadata": {},
     "output_type": "execute_result"
    }
   ],
   "source": [
    "#q17 Which actor has played in the greatest number of movies?\n",
    "actors_list[-1]"
   ]
  },
  {
   "cell_type": "code",
   "execution_count": 28,
   "metadata": {},
   "outputs": [
    {
     "data": {
      "text/plain": [
       "1926"
      ]
     },
     "execution_count": 28,
     "metadata": {},
     "output_type": "execute_result"
    }
   ],
   "source": [
    "#q18 How many actors have only acted in only 1 movie?\n",
    "actors_in_one_movie = []\n",
    "for actor in actor_to_num_movies:\n",
    "    if actor_to_num_movies[actor] == 1:\n",
    "        actors_in_one_movie.append(actor)\n",
    "len(actors_in_one_movie)"
   ]
  },
  {
   "cell_type": "code",
   "execution_count": 29,
   "metadata": {},
   "outputs": [
    {
     "data": {
      "text/plain": [
       "['The Godfather: Part II', 'The Dark Knight', 'The Godfather']"
      ]
     },
     "execution_count": 29,
     "metadata": {},
     "output_type": "execute_result"
    }
   ],
   "source": [
    "#q19 What are the titles of the top 3 rated movies in the dataset?\n",
    "titles = []\n",
    "title_to_rating = {}\n",
    "for movie in movies:\n",
    "    for title in [movie[\"title\"]]:\n",
    "        title_to_rating[title] = movie[\"rating\"]\n",
    "for title in title_to_rating:\n",
    "    titles.append(title)\n",
    "def rating_sort(movie_title):\n",
    "    return title_to_rating[movie_title]\n",
    "titles = sorted(titles, key = rating_sort)\n",
    "titles[-3:]"
   ]
  },
  {
   "cell_type": "code",
   "execution_count": 30,
   "metadata": {},
   "outputs": [
    {
     "data": {
      "text/plain": [
       "['Silk',\n",
       " 'Stealing Las Vegas',\n",
       " 'Singularity',\n",
       " 'Body and Soul',\n",
       " 'Garden of the Dead',\n",
       " 'Beyond the Ring',\n",
       " \"Hitman's Run\",\n",
       " 'Betrayal',\n",
       " \"Jake's Road\",\n",
       " 'The Trouble with Spies',\n",
       " '2 Bedroom 1 Bath',\n",
       " 'Victim of Desire',\n",
       " 'Arsenal',\n",
       " 'Woman of Desire',\n",
       " 'Sweet Justice',\n",
       " 'Falcon Beach',\n",
       " 'The Flying Dutchman',\n",
       " 'The Mark: Redemption',\n",
       " 'The Steam Experiment']"
      ]
     },
     "execution_count": 30,
     "metadata": {},
     "output_type": "execute_result"
    }
   ],
   "source": [
    "#q20 What are the titles of the bottom 19 rated movies in the dataset?\n",
    "titles[:19]"
   ]
  }
 ],
 "metadata": {
  "kernelspec": {
   "display_name": "Python 3",
   "language": "python",
   "name": "python3"
  },
  "language_info": {
   "codemirror_mode": {
    "name": "ipython",
    "version": 3
   },
   "file_extension": ".py",
   "mimetype": "text/x-python",
   "name": "python",
   "nbconvert_exporter": "python",
   "pygments_lexer": "ipython3",
   "version": "3.8.5"
  }
 },
 "nbformat": 4,
 "nbformat_minor": 4
}
